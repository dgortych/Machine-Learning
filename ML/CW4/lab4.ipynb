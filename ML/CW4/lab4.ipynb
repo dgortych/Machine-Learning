{
 "cells": [
  {
   "cell_type": "markdown",
   "metadata": {},
   "source": [
    "# Wczytanie i przygotowanie danych"
   ]
  },
  {
   "cell_type": "code",
   "execution_count": 3,
   "metadata": {},
   "outputs": [],
   "source": [
    "import pandas as pd\n",
    "import numpy as np\n",
    "\n",
    "data = pd.read_csv(r'C:\\Users\\THINK\\Documents\\ML\\CW2\\phpMYEkMl.csv')\n",
    "data = data.replace('?',np.nan) \n",
    "data[\"CabinReduced\"] =  data[\"cabin\"].astype(str).str[0]\n",
    "data[\"CabinReduced\"] = data[\"CabinReduced\"].replace(\"n\",np.nan)"
   ]
  },
  {
   "cell_type": "markdown",
   "metadata": {},
   "source": [
    "W moim sprawozdaniu jako zmiennych o wysokiej liczebności cech użyje 'ticket' oraz 'fare'.\n",
    "W przypadku 'ticket' zastosuje zamiane zmiennej kategorycznej na liczbową w celu pozbycia sie stringów i ułatwieniu algorytmom pracy.\n",
    "\n",
    "Jako zmiennych o niskiej liczebności cech użyje 'parch' oraz 'sibsp'\n",
    "\n",
    "Zmienna ktorej wartosc bede starał się przewidzieć bedzie 'survived'."
   ]
  },
  {
   "cell_type": "code",
   "execution_count": 2,
   "metadata": {},
   "outputs": [],
   "source": [
    "#Zamiana zmiennej kategorycznej na liczbową\n",
    "ticket = {}\n",
    "for index,row in enumerate(set(data[\"ticket\"])):\n",
    "    ticket[row] = index\n",
    "data[\"ticket_map\"] = data[\"ticket\"].map(ticket)"
   ]
  },
  {
   "cell_type": "markdown",
   "metadata": {},
   "source": [
    "# RandomForestClassifier"
   ]
  },
  {
   "cell_type": "markdown",
   "metadata": {},
   "source": [
    "RandomForestClassifier dokonuje predykcji na podstawie drzew decyzyjnych utworzonych z podpróbek zbioru. Dla poprawy dokładności i kontroli overfittingu domyslnie wykorzystuje metode bootstrap w celu uśrednienai wyników z poszczególnych drzew."
   ]
  },
  {
   "cell_type": "markdown",
   "metadata": {},
   "source": [
    "### Mała liczebnosc"
   ]
  },
  {
   "cell_type": "code",
   "execution_count": 4,
   "metadata": {
    "scrolled": true
   },
   "outputs": [
    {
     "name": "stdout",
     "output_type": "stream",
     "text": [
      "0.6471157568718543 0.6612567236425665\n"
     ]
    }
   ],
   "source": [
    "from sklearn.model_selection import train_test_split\n",
    "from sklearn.ensemble import RandomForestClassifier\n",
    "from sklearn.metrics import roc_auc_score\n",
    "\n",
    "#Podział zbioru\n",
    "col_name = [\"parch\",\"sibsp\"]\n",
    "X_train, X_test, y_train, y_test = train_test_split(data[col_name], data[\"survived\"], test_size=0.3, random_state=0)\n",
    "\n",
    "#Tworzenie modelu\n",
    "RF = RandomForestClassifier(n_estimators = 220, random_state = 42)\n",
    "#Trenowanie modelu\n",
    "RF.fit(X_train[['parch','sibsp']],y_train)\n",
    "#Predykcja\n",
    "PredTrain = RF.predict_proba(X_train[['parch','sibsp']])\n",
    "PredTest = RF.predict_proba(X_test[['parch','sibsp']].fillna(0))\n",
    "\n",
    "\n",
    "RAS_test = roc_auc_score(y_test,PredTest[:,1])\n",
    "RAS_train = roc_auc_score(y_train,PredTrain[:,1])\n",
    "\n",
    "print(RAS_test,RAS_train)"
   ]
  },
  {
   "cell_type": "markdown",
   "metadata": {},
   "source": [
    "### Duza liczebnosc"
   ]
  },
  {
   "cell_type": "code",
   "execution_count": 37,
   "metadata": {
    "scrolled": true
   },
   "outputs": [
    {
     "name": "stdout",
     "output_type": "stream",
     "text": [
      "0.751673026934351 0.9904221114124555\n"
     ]
    },
    {
     "data": {
      "text/plain": [
       "0.34779004620434184"
      ]
     },
     "execution_count": 37,
     "metadata": {},
     "output_type": "execute_result"
    }
   ],
   "source": [
    "col_name = ['ticket_map','fare']\n",
    "X_train, X_test, y_train, y_test = train_test_split(data[col_name], data[\"survived\"], test_size=0.3, random_state=0)\n",
    "\n",
    "#Tworzenie modelu\n",
    "RF = RandomForestClassifier(n_estimators = 220, random_state = 42)\n",
    "#Trenowanie modelu\n",
    "RF.fit(X_train[['ticket_map','fare']],y_train)\n",
    "#Predykcja\n",
    "PredTrain = RF.predict_proba(X_train[['ticket_map','fare']])\n",
    "PredTest = RF.predict_proba(X_test[['ticket_map','fare']].fillna(0))\n",
    "\n",
    "\n",
    "RAS_test = roc_auc_score(y_test,PredTest[:,1])\n",
    "RAS_train = roc_auc_score(y_train,PredTrain[:,1])\n",
    "\n",
    "print(RAS_test,RAS_train)\n",
    "mean_absolute_error(y_train,PredTrain[:,1])\n",
    "mean_absolute_error(y_test,PredTest[:,1])"
   ]
  },
  {
   "cell_type": "markdown",
   "metadata": {},
   "source": [
    "W przypadku danych o małej liczebności cech wyniki roc_auc_score są niezadawalające. Ponadto są one zbliżone dla zbioru testowego i treningowego co może świadczyć o niedopasowaniu.\n",
    "\n",
    "W przypadku danych o dużej liczebności cech wyniki roc_auc_score są bardziej zadawalające, jednakże występuje duża różnica pomiędzy zbiorem testowym i treningowym co może świadczyć o nadmiernym dopasowaniu."
   ]
  },
  {
   "cell_type": "markdown",
   "metadata": {},
   "source": [
    "# LogisticRegression"
   ]
  },
  {
   "cell_type": "markdown",
   "metadata": {},
   "source": [
    "Regresja logistyczna to metoda w statystyce, która jest używana do przewidywania prawdopodobieństwa wyniku i jest popularna w przypadku zadań klasyfikacji. Algorytm przewiduje prawdopodobieństwo wystąpienia zdarzenia przez dopasowanie danych do funkcji logistycznej."
   ]
  },
  {
   "cell_type": "markdown",
   "metadata": {},
   "source": [
    "### Mała liczebnosc"
   ]
  },
  {
   "cell_type": "code",
   "execution_count": 38,
   "metadata": {
    "scrolled": true
   },
   "outputs": [
    {
     "name": "stdout",
     "output_type": "stream",
     "text": [
      "0.5724793982633704 0.5673043539516652\n"
     ]
    }
   ],
   "source": [
    "from sklearn.linear_model import LogisticRegression\n",
    "\n",
    "#Podział zbioru\n",
    "col_name = [\"parch\",\"sibsp\"]\n",
    "X_train, X_test, y_train, y_test = train_test_split(data[col_name], data[\"survived\"], test_size=0.3, random_state=0)\n",
    "\n",
    "#Tworzenie modelu\n",
    "LR = LogisticRegression(random_state = 42)\n",
    "#Trenowanie modelu\n",
    "LR.fit(X_train[['parch','sibsp']],y_train)\n",
    "#Predykcja\n",
    "PredTrain = LR.predict_proba(X_train[['parch','sibsp']])\n",
    "PredTest = LR.predict_proba(X_test[['parch','sibsp']].fillna(0))\n",
    "\n",
    "\n",
    "RAS_test = roc_auc_score(y_test,PredTest[:,1])\n",
    "RAS_train = roc_auc_score(y_train,PredTrain[:,1])\n",
    "\n",
    "print(RAS_test,RAS_train)"
   ]
  },
  {
   "cell_type": "markdown",
   "metadata": {},
   "source": [
    "### Duza liczebnosc"
   ]
  },
  {
   "cell_type": "code",
   "execution_count": 11,
   "metadata": {
    "scrolled": true
   },
   "outputs": [
    {
     "name": "stdout",
     "output_type": "stream",
     "text": [
      "0.7073862065151264 0.6574628029727432\n"
     ]
    }
   ],
   "source": [
    "col_name = ['ticket_map','fare']\n",
    "X_train, X_test, y_train, y_test = train_test_split(data[col_name], data[\"survived\"], test_size=0.3, random_state=0)\n",
    "\n",
    "#Tworzenie modelu\n",
    "LR = LogisticRegression(random_state = 42)\n",
    "#Trenowanie modelu\n",
    "LR.fit(X_train[['ticket_map','fare']],y_train)\n",
    "#Predykcja\n",
    "PredTrain = LR.predict_proba(X_train[['ticket_map','fare']])\n",
    "PredTest = LR.predict_proba(X_test[['ticket_map','fare']].fillna(0))\n",
    "\n",
    "\n",
    "RAS_test = roc_auc_score(y_test,PredTest[:,1])\n",
    "RAS_train = roc_auc_score(y_train,PredTrain[:,1])\n",
    "\n",
    "print(RAS_test,RAS_train)"
   ]
  },
  {
   "cell_type": "markdown",
   "metadata": {},
   "source": [
    "W przypadku danych o małej liczebności cech wyniki roc_auc_score są niezadawalające. \n",
    "Ponadto są one zbliżone dla zbioru testowego i treningowego co może świadczyć o niedopasowaniu.\n",
    "\n",
    "W przypadku danych o dużej liczebności cech wyniki roc_auc_score również nie są zadowalające, jednakże \n",
    "różnica pomiędzy zbiorem testowym i treningowym może świadczyć o odpowiednim dopasowaniu."
   ]
  },
  {
   "cell_type": "markdown",
   "metadata": {},
   "source": [
    "# GradientBoostingClassifier"
   ]
  },
  {
   "cell_type": "markdown",
   "metadata": {},
   "source": [
    "Metoda GradientBoostingClassifier buduje model predykcyjny w sposób addytywny(postępowy). Korzysta z drzew regresyjnych i pozwala na optymalizacje dowolnych różniczkowalnych funkcji strat."
   ]
  },
  {
   "cell_type": "markdown",
   "metadata": {},
   "source": [
    "### Mała liczebnosc"
   ]
  },
  {
   "cell_type": "code",
   "execution_count": 17,
   "metadata": {
    "scrolled": true
   },
   "outputs": [
    {
     "name": "stdout",
     "output_type": "stream",
     "text": [
      "0.6560616116365244 0.6603560448628604\n"
     ]
    }
   ],
   "source": [
    "from sklearn.ensemble import GradientBoostingClassifier\n",
    "\n",
    "\n",
    "#Podział zbioru\n",
    "col_name = [\"parch\",\"sibsp\"]\n",
    "X_train, X_test, y_train, y_test = train_test_split(data[col_name], data[\"survived\"], test_size=0.3, random_state=0)\n",
    "\n",
    "#Tworzenie modelu\n",
    "GBC = GradientBoostingClassifier(random_state = 42)\n",
    "#Trenowanie modelu\n",
    "GBC.fit(X_train[['parch','sibsp']],y_train)\n",
    "#Predykcja\n",
    "PredTrain = GBC.predict_proba(X_train[['parch','sibsp']])\n",
    "PredTest = GBC.predict_proba(X_test[['parch','sibsp']].fillna(0))\n",
    "\n",
    "\n",
    "RAS_test = roc_auc_score(y_test,PredTest[:,1])\n",
    "RAS_train = roc_auc_score(y_train,PredTrain[:,1])\n",
    "\n",
    "print(RAS_test,RAS_train)"
   ]
  },
  {
   "cell_type": "markdown",
   "metadata": {},
   "source": [
    "### Duza liczebnosc"
   ]
  },
  {
   "cell_type": "code",
   "execution_count": 16,
   "metadata": {
    "scrolled": true
   },
   "outputs": [
    {
     "name": "stdout",
     "output_type": "stream",
     "text": [
      "0.7498617333112106 0.8658416314865225\n"
     ]
    }
   ],
   "source": [
    "#Podział zbioru\n",
    "col_name = ['ticket_map','fare']\n",
    "X_train, X_test, y_train, y_test = train_test_split(data[col_name], data[\"survived\"], test_size=0.3, random_state=0)\n",
    "\n",
    "#Tworzenie modelu\n",
    "GBC = GradientBoostingClassifier(random_state = 42)\n",
    "#Trenowanie modelu\n",
    "GBC.fit(X_train[['ticket_map','fare']],y_train)\n",
    "#Predykcja\n",
    "PredTrain = GBC.predict_proba(X_train[['ticket_map','fare']])\n",
    "PredTest = GBC.predict_proba(X_test[['ticket_map','fare']].fillna(0))\n",
    "\n",
    "\n",
    "RAS_test = roc_auc_score(y_test,PredTest[:,1])\n",
    "RAS_train = roc_auc_score(y_train,PredTrain[:,1])\n",
    "\n",
    "print(RAS_test,RAS_train)"
   ]
  },
  {
   "cell_type": "markdown",
   "metadata": {},
   "source": [
    "W przypadku danych o małej liczebności cech wyniki roc_auc_score są niezadawalające. \n",
    "Ponadto są one zbliżone dla zbioru testowego i treningowego co może świadczyć o niedopasowaniu.\n",
    "\n",
    "W przypadku danych o dużej liczebności cech wyniki roc_auc_score są jak dotąd najlepsze. Ponadto \n",
    "różnica pomiędzy zbiorem testowym i treningowym może świadczyć o odpowiednim dopasowaniu."
   ]
  },
  {
   "cell_type": "markdown",
   "metadata": {},
   "source": [
    "# AdaBoostClassifier"
   ]
  },
  {
   "cell_type": "markdown",
   "metadata": {},
   "source": [
    "AdaBoostClassifier jest metaestymatorem, który zaczyna się od dopasowania klasyfikatora do oryginalnego zbioru danych,\n",
    "a następnie dopasowuje dodatkowe kopie klasyfikatora do tego samego zbioru danych, ale w którym wagi \n",
    "niepoprawnie sklasyfikowanych instancji są dostosowywane tak, aby kolejne klasyfikatory skupiały się bardziej na \n",
    "trudnych przypadkach."
   ]
  },
  {
   "cell_type": "markdown",
   "metadata": {},
   "source": [
    "### Mała liczebnosc"
   ]
  },
  {
   "cell_type": "code",
   "execution_count": 20,
   "metadata": {
    "scrolled": true
   },
   "outputs": [
    {
     "name": "stdout",
     "output_type": "stream",
     "text": [
      "0.6523007577014546 0.6499101837082807\n"
     ]
    }
   ],
   "source": [
    "from sklearn.ensemble import AdaBoostClassifier\n",
    "\n",
    "#Podział zbioru\n",
    "col_name = [\"parch\",\"sibsp\"]\n",
    "X_train, X_test, y_train, y_test = train_test_split(data[col_name], data[\"survived\"], test_size=0.3, random_state=0)\n",
    "\n",
    "#Tworzenie modelu\n",
    "ABC = AdaBoostClassifier(random_state = 42)\n",
    "#Trenowanie modelu\n",
    "ABC.fit(X_train[['parch','sibsp']],y_train)\n",
    "#Predykcja\n",
    "PredTrain = ABC.predict_proba(X_train[['parch','sibsp']])\n",
    "PredTest = ABC.predict_proba(X_test[['parch','sibsp']].fillna(0))\n",
    "\n",
    "\n",
    "RAS_test = roc_auc_score(y_test,PredTest[:,1])\n",
    "RAS_train = roc_auc_score(y_train,PredTrain[:,1])\n",
    "\n",
    "print(RAS_test,RAS_train)"
   ]
  },
  {
   "cell_type": "markdown",
   "metadata": {},
   "source": [
    "### Duza liczebnosc"
   ]
  },
  {
   "cell_type": "code",
   "execution_count": 21,
   "metadata": {
    "scrolled": false
   },
   "outputs": [
    {
     "name": "stdout",
     "output_type": "stream",
     "text": [
      "0.7074553398595209 0.7702086656368402\n"
     ]
    }
   ],
   "source": [
    "#Podział zbioru\n",
    "col_name = ['ticket_map','fare']\n",
    "X_train, X_test, y_train, y_test = train_test_split(data[col_name], data[\"survived\"], test_size=0.3, random_state=0)\n",
    "\n",
    "#Tworzenie modelu\n",
    "ABC = AdaBoostClassifier(random_state = 42)\n",
    "#Trenowanie modelu\n",
    "ABC.fit(X_train[['ticket_map','fare']],y_train)\n",
    "#Predykcja\n",
    "PredTrain = ABC.predict_proba(X_train[['ticket_map','fare']])\n",
    "PredTest = ABC.predict_proba(X_test[['ticket_map','fare']].fillna(0))\n",
    "\n",
    "\n",
    "RAS_test = roc_auc_score(y_test,PredTest[:,1])\n",
    "RAS_train = roc_auc_score(y_train,PredTrain[:,1])\n",
    "\n",
    "print(RAS_test,RAS_train)"
   ]
  },
  {
   "cell_type": "markdown",
   "metadata": {},
   "source": [
    "W przypadku danych o małej liczebności cech wyniki roc_auc_score są niezadawalające. Ponadto są one zbliżone dla zbioru testowego i treningowego co może świadczyć o niedopasowaniu.\n",
    "\n",
    "W przypadku danych o dużej liczebności cech wyniki roc_auc_score są nieco gorsze od poprzedniej metody jednak nadal lepsze\n",
    "niż pozostałe. Ponadto różnica pomiędzy zbiorem testowym i treningowym może świadczyć o odpowiednim dopasowaniu."
   ]
  },
  {
   "cell_type": "markdown",
   "metadata": {},
   "source": [
    "# Wnioski z porównania metod"
   ]
  },
  {
   "cell_type": "markdown",
   "metadata": {},
   "source": [
    "Porównując zastosowane algorytmy, dla danych o małej liczności cech, w każdym przypadku występował problem niedopasowania oraz słabych wyników modeli predykcyjnych.\n",
    "\n",
    "Dla danych o dużej ilości cech sytuacja znacznie sie poprawiła a modele predykcyjne osiągały lepsze rezultaty. \n",
    "Algorytm RandomForestClassifier miał tendencje do overfittingu. Pozostałe algorytmy wykazywały odpowiednie dopasowanie a najlepsze rezultaty osiągnęły GradientBoostingClassifier oraz AdaBoostClassifier."
   ]
  },
  {
   "cell_type": "markdown",
   "metadata": {},
   "source": [
    "# Różnica między predict_proba a predict\n"
   ]
  },
  {
   "cell_type": "markdown",
   "metadata": {},
   "source": [
    "predict -  zwraca binarną wartosc 0 lub 1, czyli na sztywno przewiduje nasze wartosci\n",
    "\n",
    "predict_proba - zwraca prawdopodobienstwo binarnej wartosci 0 lub 1, czyli zamiast sztywnej wartosci zwraca prawdopodobinestwo jej wystąpienia"
   ]
  }
 ],
 "metadata": {
  "kernelspec": {
   "display_name": "MachineLearning py36",
   "language": "python",
   "name": "machinelearning"
  },
  "language_info": {
   "codemirror_mode": {
    "name": "ipython",
    "version": 3
   },
   "file_extension": ".py",
   "mimetype": "text/x-python",
   "name": "python",
   "nbconvert_exporter": "python",
   "pygments_lexer": "ipython3",
   "version": "3.6.10"
  }
 },
 "nbformat": 4,
 "nbformat_minor": 4
}
